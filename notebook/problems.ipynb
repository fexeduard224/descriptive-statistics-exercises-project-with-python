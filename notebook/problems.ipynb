{
    "cells": [
        {
            "cell_type": "markdown",
            "id": "ac622319",
            "metadata": {},
            "source": [
                "# Descriptive statistics problems"
            ]
        },
        {
            "cell_type": "markdown",
            "id": "5e0ab0d5",
            "metadata": {},
            "source": [
                "### Exercise 1\n",
                "\n",
                "We will use NumPy to obtain information to describe statistically.\n",
                "\n",
                "- Generate an array of 100 elements following a normal distribution.\n",
                "- Generate an array of 100 elements following a chi-square distribution with 3 degrees of freedom.\n",
                "- Calculate the main metrics and statistical measures that best describe the two vectors."
            ]
        },
        {
            "cell_type": "code",
            "execution_count": 2,
            "id": "34720ab6",
            "metadata": {},
            "outputs": [
                {
                    "name": "stdout",
                    "output_type": "stream",
                    "text": [
                        "Normal distribution: [-0.02667812 -0.19362771 -0.36656263 -0.62069973  0.88309266  0.68052656\n",
                        "  0.79219348  0.12571708 -0.45983865 -1.8137009  -0.6003479   0.29629099\n",
                        "  0.01511853 -1.1145305  -2.19767298 -1.41104595  0.93918889 -0.56844854\n",
                        " -0.32340304  0.25489059 -0.20101405 -0.84371941  0.25568306 -0.84922543\n",
                        "  0.39815988  0.26887607  0.32969479 -0.20520938 -0.12453536 -0.58016761\n",
                        " -1.3916981  -1.65307101 -0.04138827 -1.57475288  1.70236605  0.07733339\n",
                        " -1.36446543  1.6359467   0.00925197 -1.07359951 -0.90398422 -0.20672948\n",
                        "  1.5139959  -1.42126771 -0.37500142  0.88009916 -0.85863035  1.55705259\n",
                        " -2.34158085 -0.16129518  0.26442645  1.22312995  1.01389661  0.73747536\n",
                        "  0.60334783  1.01047904  2.20873828 -0.13287106 -1.92925761 -0.52552234\n",
                        " -1.09120454  1.22263557 -0.22641391  1.44474946 -0.95661054  0.09096433\n",
                        "  1.87441454 -0.62146851 -0.29437456  1.43611621 -0.37320516  0.47511379\n",
                        "  1.72873732  0.53146363 -1.24212242 -0.10288144  0.81430171 -0.48612471\n",
                        " -0.46409562 -0.73888511 -1.59005212  0.92061095 -0.70208157 -0.78498769\n",
                        " -0.48223952 -0.06152389  0.31479461  1.19938803 -0.71031851 -0.26442235\n",
                        " -1.02445672 -0.34549508 -1.07726202 -1.03279379 -0.03404152 -0.99988653\n",
                        "  0.05031176  0.50971269 -1.16231301 -1.07857012]\n",
                        "Chi-square distribution: [10.12807696  0.73403712  1.42628846  2.13667312  0.58413896  2.27489942\n",
                        "  0.59882657  2.16858221  5.78181855  0.58593847  0.8859134   7.44109315\n",
                        "  3.42519352  1.52680826  0.87731996  3.17473856  3.6376985   7.4695086\n",
                        "  1.64566445  1.71767404  3.53015911 10.3364619   2.46476812  3.09741729\n",
                        "  2.08697955  2.14190027  0.90225657  5.36109355  8.86064244  1.24167836\n",
                        "  2.20283139  5.99059103  3.22431249  3.46125018  1.14683219  3.13974188\n",
                        "  3.28551307  2.54746134  4.03069373  0.7763057   1.51913942  1.19792062\n",
                        "  3.83351559  0.84870004  3.12465625  1.89596254  1.01314728  0.70859316\n",
                        " 11.21911824  0.6648396   0.98120874  0.66974758  0.55344291  1.28125366\n",
                        "  1.38491048  0.67836635  5.85102942  7.48498168  0.25743008  0.27007645\n",
                        "  2.71656762  3.91208736  0.66571252 16.12330503  2.74090281  1.97645489\n",
                        "  3.4526437   2.93850159  0.92939089  1.81223081  6.02229617  3.99343216\n",
                        "  3.37169028  7.42213812  6.96355656  5.60068149  0.35658679  2.58467417\n",
                        "  2.53853106  7.33731573  1.33137124  2.51417966  2.58753101  1.48372765\n",
                        "  3.55629623  1.91215351  1.22636286  1.09586539  4.63449974  2.68959\n",
                        "  2.25557157  0.91217855  1.59218448  0.37936589  6.82437345  0.92251025\n",
                        "  2.161226    3.4772735   1.62347546  3.50687101]\n",
                        "\n",
                        "mean of normal =-0.14113087776625055\n",
                        "mean of chi = 3.036331297391768\n",
                        "\n",
                        "median of normal=-0.20311171171182374\n",
                        "median of chi=2.2292014835985956\n",
                        "\n",
                        "mode of normal=-0.02667812224981595\n",
                        "mode of chi=10.128076964696344\n",
                        "\n",
                        "range of normal=-4.55031912225836\n",
                        "range of chi=-15.865874947883759\n",
                        "\n",
                        "variance of normal=0.9362287366969109\n",
                        "variance of chi =7.510971964947353\n",
                        "\n",
                        "standard deviation of normal=0.9675891363057518\n",
                        "standard deviation of chi=2.740615252994727\n",
                        "\n"
                    ]
                }
            ],
            "source": [
                "# TODO\n",
                "import numpy as np\n",
                "import math \n",
                "import statistics as stats\n",
                "\n",
                "normal = np.random.normal(size = 100)\n",
                "chi = np.random.chisquare(3, 100)\n",
                "\n",
                "\n",
                "\n",
                "print(f\"Normal distribution: {normal}\")\n",
                "print(f\"Chi-square distribution: {chi}\")\n",
                "\n",
                "print(\"\")\n",
                "\n",
                "mean_normal = stats.mean(normal)\n",
                "mean_chi =  stats.mean(chi)\n",
                "\n",
                "print(f'mean of normal ={mean_normal}')\n",
                "print(f'mean of chi = {mean_chi}')\n",
                "\n",
                "print(\"\")\n",
                "\n",
                " \n",
                "median_normal = stats.median(normal)\n",
                "median_chi = stats.median(chi)\n",
                "\n",
                "print(f'median of normal={median_normal}')\n",
                "print(f'median of chi={median_chi}')\n",
                "\n",
                "print(\"\")\n",
                "\n",
                "\n",
                "mode_normal = stats.mode(normal)\n",
                "mode_chi =    stats.mode(chi)\n",
                "\n",
                "print(f'mode of normal={mode_normal}')\n",
                "print(f'mode of chi={mode_chi}')\n",
                "\n",
                "print(\"\")\n",
                "\n",
                "\n",
                "range_normal = min(normal) - max(normal) \n",
                "range_chi =  min(chi) - max(chi)\n",
                "\n",
                "print(f'range of normal={range_normal}')\n",
                "print(f'range of chi={range_chi}')\n",
                "\n",
                "print(\"\")\n",
                "\n",
                "\n",
                "variance_normal = stats.variance(normal)\n",
                "variance_chi =  stats.variance(chi)\n",
                "\n",
                "print(f'variance of normal={variance_normal}')\n",
                "print(f'variance of chi ={variance_chi}')\n",
                "\n",
                "print(\"\")\n",
                "\n",
                "\n",
                "desviacionstd_normal =  stats.stdev(normal)\n",
                "desviacionstd_chi = stats.stdev(chi)\n",
                "\n",
                "print(f'standard deviation of normal={desviacionstd_normal}')\n",
                "print(f'standard deviation of chi={desviacionstd_chi}')\n",
                "\n",
                "print(\"\")\n",
                "\n",
                "\n",
                "\n",
                "\n",
                "\n",
                "\n"
            ]
        },
        {
            "cell_type": "code",
            "execution_count": 3,
            "id": "def8c725",
            "metadata": {},
            "outputs": [
                {
                    "name": "stdout",
                    "output_type": "stream",
                    "text": [
                        "Normal skewness: 0.19661292277128328\n",
                        "Chi skewness: 1.9755362658660824\n",
                        "\n",
                        "Normal kurtosis: -0.3773245890138268\n",
                        "Chi kurtosis: 4.938659331458041\n"
                    ]
                }
            ],
            "source": [
                "\n",
                "\n",
                "from scipy.stats import skew\n",
                "\n",
                "skew_normal = skew(normal)\n",
                "skew_chi = skew(chi)\n",
                "\n",
                "print(f\"Normal skewness: {skew_normal}\")\n",
                "print(f\"Chi skewness: {skew_chi}\")\n",
                "\n",
                "print('')\n",
                "\n",
                "from scipy.stats import kurtosis\n",
                "\n",
                "kurt_normal = kurtosis(normal)\n",
                "kurt_chi = kurtosis(chi)\n",
                "\n",
                "print(f\"Normal kurtosis: {kurt_normal}\")\n",
                "print(f\"Chi kurtosis: {kurt_chi}\")\n",
                "\n",
                "\n"
            ]
        },
        {
            "cell_type": "markdown",
            "id": "46c70c3d",
            "metadata": {},
            "source": [
                "### Exercise 2\n",
                "\n",
                "Write a Python program to calculate the standard deviation of the following data:\n",
                "\n",
                "```py\n",
                "data = [4, 2, 5, 8, 6]\n",
                "```"
            ]
        },
        {
            "cell_type": "code",
            "execution_count": 9,
            "id": "d590308e",
            "metadata": {},
            "outputs": [
                {
                    "name": "stdout",
                    "output_type": "stream",
                    "text": [
                        "desviacion estandar =2.23606797749979\n",
                        "\n"
                    ]
                }
            ],
            "source": [
                "# TODO\n",
                "\n",
                "data = [4,2,5,8,6]\n",
                "data_std1= stats.stdev(data)\n",
                "\n",
                "print(f'desviacion estandar ={data_std1}')\n",
                "\n",
                "print('')\n",
                "\n",
                "\n",
                "\n"
            ]
        },
        {
            "cell_type": "code",
            "execution_count": 10,
            "id": "8635ca70",
            "metadata": {},
            "outputs": [
                {
                    "name": "stdout",
                    "output_type": "stream",
                    "text": [
                        "Desviacion estandar = 2.0\n"
                    ]
                }
            ],
            "source": [
                "\n",
                "\n",
                "media = sum(data) / len(data)  \n",
                "var  = sum(pow(x-media,2) for x in data) / len(data)  \n",
                "desviacion_estandar  = math.sqrt(var)  \n",
                "print(f'Desviacion estandar = {std}')\n"
            ]
        }
    ],
    "metadata": {
        "interpreter": {
            "hash": "9248718ffe6ce6938b217e69dbcc175ea21f4c6b28a317e96c05334edae734bb"
        },
        "kernelspec": {
            "display_name": "Python 3.9.12 ('ML-BOOTCAMP')",
            "language": "python",
            "name": "python3"
        },
        "language_info": {
            "codemirror_mode": {
                "name": "ipython",
                "version": 3
            },
            "file_extension": ".py",
            "mimetype": "text/x-python",
            "name": "python",
            "nbconvert_exporter": "python",
            "pygments_lexer": "ipython3",
            "version": "3.11.4"
        }
    },
    "nbformat": 4,
    "nbformat_minor": 5
}
